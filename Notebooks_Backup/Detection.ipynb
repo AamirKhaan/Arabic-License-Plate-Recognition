{
 "cells": [
  {
   "cell_type": "markdown",
   "id": "34803593",
   "metadata": {},
   "source": [
    "<a href=\"https://colab.research.google.com/github/AamirKhaan/Student-Academic-Performance/blob/master/01_Data_Cleaning.ipynb\" target=\"_parent\"><img src=\"https://colab.research.google.com/assets/colab-badge.svg\" alt=\"Open In Colab\"/></a>"
   ]
  },
  {
   "cell_type": "markdown",
   "id": "9b4b3fff",
   "metadata": {},
   "source": [
    "## Image Manipulation\n",
    "\n",
    "Manipulation of raw mobile phone captured images."
   ]
  },
  {
   "cell_type": "code",
   "execution_count": 1,
   "id": "f3540a65",
   "metadata": {},
   "outputs": [],
   "source": [
    "import glob\n",
    "import os\n",
    "\n",
    "import matplotlib.pyplot as plt\n",
    "\n",
    "from tensorflow.keras.preprocessing.image import ImageDataGenerator\n",
    "from tensorflow.keras.preprocessing.image import load_img, img_to_array\n",
    "\n",
    "from tensorflow.keras.utils import get_file\n",
    "from PIL import Image\n",
    "import time\n",
    "from IPython.display import clear_output"
   ]
  },
  {
   "cell_type": "code",
   "execution_count": 2,
   "id": "ccfb5676",
   "metadata": {},
   "outputs": [],
   "source": [
    "CUSTOM_MODEL_NAME = 'alpr_ssd_mobnet' \n",
    "PRETRAINED_MODEL_NAME = 'ssd_mobilenet_v2_fpnlite_320x320_coco17_tpu-8'\n",
    "PRETRAINED_MODEL_URL = 'http://download.tensorflow.org/models/object_detection/tf2/20200711/ssd_mobilenet_v2_fpnlite_320x320_coco17_tpu-8.tar.gz'\n",
    "TF_RECORD_SCRIPT_NAME = 'generate_tfrecord.py'\n",
    "LABEL_MAP_NAME = 'label_map.pbtxt'"
   ]
  },
  {
   "cell_type": "code",
   "execution_count": 3,
   "id": "cd2bebf7",
   "metadata": {},
   "outputs": [],
   "source": [
    "paths = {\n",
    "    'WORKSPACE_PATH': os.path.join('codes', 'workspace'),\n",
    "    'SCRIPTS_PATH': os.path.join('codes','scripts'),\n",
    "    'APIMODEL_PATH': os.path.join('codes','models'),\n",
    "    'ANNOTATION_PATH': os.path.join('codes', 'workspace','annotations'),\n",
    "    'IMAGE_PATH': os.path.join('codes', 'workspace','images'),\n",
    "    'MODEL_PATH': os.path.join('codes', 'workspace','models'),\n",
    "    'PRETRAINED_MODEL_PATH': os.path.join('codes', 'workspace','pre-trained-models'),\n",
    "    'CHECKPOINT_PATH': os.path.join('codes', 'workspace','models',CUSTOM_MODEL_NAME), \n",
    "    'OUTPUT_PATH': os.path.join('codes', 'workspace','models',CUSTOM_MODEL_NAME, 'export'), \n",
    "    'TFJS_PATH':os.path.join('codes', 'workspace','models',CUSTOM_MODEL_NAME, 'tfjsexport'), \n",
    "    'TFLITE_PATH':os.path.join('codes', 'workspace','models',CUSTOM_MODEL_NAME, 'tfliteexport'), \n",
    "    'PROTOC_PATH':os.path.join('codes','protoc')\n",
    " }"
   ]
  },
  {
   "cell_type": "code",
   "execution_count": 4,
   "id": "9d5a42e1",
   "metadata": {},
   "outputs": [],
   "source": [
    "files = {\n",
    "    'PIPELINE_CONFIG':os.path.join('codes', 'workspace','models', CUSTOM_MODEL_NAME, 'pipeline.config'),\n",
    "    'TF_RECORD_SCRIPT': os.path.join(paths['SCRIPTS_PATH'], TF_RECORD_SCRIPT_NAME), \n",
    "    'LABELMAP': os.path.join(paths['ANNOTATION_PATH'], LABEL_MAP_NAME)\n",
    "}"
   ]
  },
  {
   "cell_type": "code",
   "execution_count": null,
   "id": "5a565e81",
   "metadata": {},
   "outputs": [],
   "source": [
    "#!pip uninstall tensorflow-object-detection-api -y"
   ]
  },
  {
   "cell_type": "code",
   "execution_count": null,
   "id": "7699a719",
   "metadata": {},
   "outputs": [],
   "source": [
    "os.environ['PATH'] += os.pathsep + os.path.abspath(os.path.join(paths['PROTOC_PATH'], 'bin')) \n",
    "!cd codes/models/research && protoc object_detection/protos/*.proto --python_out=. && copy object_detection\\\\packages\\\\tf2\\\\setup.py setup.py && python setup.py build && python setup.py install\n",
    "!cd codes/models/research/slim && pip install -e ."
   ]
  },
  {
   "cell_type": "code",
   "execution_count": null,
   "id": "4c511efd",
   "metadata": {},
   "outputs": [],
   "source": [
    "VERIFICATION_SCRIPT = os.path.join(paths['APIMODEL_PATH'], 'research', 'object_detection', 'builders', 'model_builder_tf2_test.py')\n",
    "# Verify Installation\n",
    "!python {VERIFICATION_SCRIPT}"
   ]
  },
  {
   "cell_type": "code",
   "execution_count": null,
   "id": "1aa64eea",
   "metadata": {},
   "outputs": [],
   "source": [
    "!pip uninstall pyparsing -y"
   ]
  },
  {
   "cell_type": "code",
   "execution_count": null,
   "id": "b58f3abe",
   "metadata": {},
   "outputs": [],
   "source": [
    "!pip uninstall object_detection.builders -y"
   ]
  },
  {
   "cell_type": "code",
   "execution_count": null,
   "id": "52720b8e",
   "metadata": {},
   "outputs": [],
   "source": [
    "!pip install object_detection.builders"
   ]
  },
  {
   "cell_type": "code",
   "execution_count": null,
   "id": "661c0c9f",
   "metadata": {},
   "outputs": [],
   "source": [
    "!pip install pyparsing==2.4.2"
   ]
  },
  {
   "cell_type": "markdown",
   "id": "37d61695",
   "metadata": {},
   "source": [
    "# 8. Load Train Model From Checkpoint"
   ]
  },
  {
   "cell_type": "code",
   "execution_count": null,
   "id": "e4f81b42",
   "metadata": {},
   "outputs": [],
   "source": [
    "!pip install tensorflow --upgrade"
   ]
  },
  {
   "cell_type": "code",
   "execution_count": null,
   "id": "1aa72c79",
   "metadata": {},
   "outputs": [],
   "source": [
    "#!pip uninstall protobuf matplotlib -y\n",
    "#!pip install protobuf matplotlib==3.2"
   ]
  },
  {
   "cell_type": "code",
   "execution_count": null,
   "id": "299987c0",
   "metadata": {},
   "outputs": [],
   "source": [
    "#!pip install tensorflow-object-detection-api"
   ]
  },
  {
   "cell_type": "code",
   "execution_count": 5,
   "id": "eec02032",
   "metadata": {},
   "outputs": [],
   "source": [
    "import os\n",
    "import tensorflow as tf\n",
    "import object_detection\n",
    "from object_detection.utils import label_map_util\n",
    "from object_detection.utils import visualization_utils as viz_utils\n",
    "from object_detection.builders import model_builder\n",
    "from object_detection.utils import config_util"
   ]
  },
  {
   "cell_type": "code",
   "execution_count": 6,
   "id": "f087706d",
   "metadata": {},
   "outputs": [],
   "source": [
    "# Load pipeline config and build a detection model\n",
    "configs = config_util.get_configs_from_pipeline_file(files['PIPELINE_CONFIG'])\n",
    "detection_model = model_builder.build(model_config=configs['model'], is_training=False)\n",
    "\n",
    "# Restore checkpoint\n",
    "ckpt = tf.compat.v2.train.Checkpoint(model=detection_model)\n",
    "ckpt.restore(os.path.join(paths['CHECKPOINT_PATH'], 'ckpt-11')).expect_partial()\n",
    "\n",
    "@tf.function\n",
    "def detect_fn(image):\n",
    "    image, shapes = detection_model.preprocess(image)\n",
    "    prediction_dict = detection_model.predict(image, shapes)\n",
    "    detections = detection_model.postprocess(prediction_dict, shapes)\n",
    "    return detections"
   ]
  },
  {
   "cell_type": "markdown",
   "id": "89b4e112",
   "metadata": {},
   "source": [
    "# 9. Detect from an Image"
   ]
  },
  {
   "cell_type": "code",
   "execution_count": 7,
   "id": "ea4b3cd2",
   "metadata": {},
   "outputs": [],
   "source": [
    "import cv2 \n",
    "import numpy as np\n",
    "from matplotlib import pyplot as plt\n",
    "%matplotlib inline"
   ]
  },
  {
   "cell_type": "code",
   "execution_count": 8,
   "id": "f89ab767",
   "metadata": {},
   "outputs": [],
   "source": [
    "category_index = label_map_util.create_category_index_from_labelmap(files['LABELMAP'])"
   ]
  },
  {
   "cell_type": "code",
   "execution_count": 9,
   "id": "029e7be1",
   "metadata": {},
   "outputs": [],
   "source": [
    "IMAGE_PATH = os.path.join(paths['IMAGE_PATH'], 'test', '*.jpg')"
   ]
  },
  {
   "cell_type": "code",
   "execution_count": 10,
   "id": "39a60e91",
   "metadata": {},
   "outputs": [],
   "source": [
    "images_path= list(glob.glob(IMAGE_PATH))"
   ]
  },
  {
   "cell_type": "code",
   "execution_count": 11,
   "id": "1611e093",
   "metadata": {},
   "outputs": [
    {
     "name": "stdout",
     "output_type": "stream",
     "text": [
      "There are 64 images in the dataset\n"
     ]
    }
   ],
   "source": [
    "print(f'There are {len(images_path):,} images in the dataset')"
   ]
  },
  {
   "cell_type": "code",
   "execution_count": 12,
   "id": "bed5074d",
   "metadata": {},
   "outputs": [],
   "source": [
    "for image in images_path:\n",
    "\n",
    "    img = cv2.imread(image)\n",
    "    image_np = np.array(img)\n",
    "\n",
    "    input_tensor = tf.convert_to_tensor(np.expand_dims(image_np, 0), dtype=tf.float32)\n",
    "    detections = detect_fn(input_tensor)\n",
    "\n",
    "\n",
    "\n",
    "    num_detections = int(detections.pop('num_detections'))\n",
    "    detections = {key: value[0, :num_detections].numpy()\n",
    "                  for key, value in detections.items()}\n",
    "    detections['num_detections'] = num_detections\n",
    "\n",
    "    # detection_classes should be ints.\n",
    "    detections['detection_classes'] = detections['detection_classes'].astype(np.int64)\n",
    "\n",
    "    # print(detections['detection_boxes'])\n",
    "    # print(detections['detection_classes'])\n",
    "    # print(detections['detection_scores'])\n",
    "\n",
    "    label_id_offset = 1\n",
    "    image_np_with_detections = image_np.copy()\n",
    "\n",
    "    viz_utils.visualize_boxes_and_labels_on_image_array(\n",
    "                image_np_with_detections,\n",
    "                detections['detection_boxes'],\n",
    "                detections['detection_classes']+label_id_offset,\n",
    "                detections['detection_scores'],\n",
    "                category_index,\n",
    "                use_normalized_coordinates=True,\n",
    "                max_boxes_to_draw=1,\n",
    "                min_score_thresh=.2,\n",
    "                agnostic_mode=False)\n",
    "    \n",
    "    img = Image.fromarray(image_np_with_detections[...,::-1])\n",
    "    display(img)\n",
    "#     print(type(image_np_with_detections))\n",
    "#     plt.imshow(cv2.cvtColor(image_np_with_detections, cv2.COLOR_BGR2RGB))\n",
    "#     plt.show()\n",
    "    time.sleep(5)\n",
    "    clear_output(wait=False)"
   ]
  },
  {
   "cell_type": "code",
   "execution_count": null,
   "id": "8444598f",
   "metadata": {},
   "outputs": [],
   "source": []
  },
  {
   "cell_type": "markdown",
   "id": "9037ee44",
   "metadata": {},
   "source": [
    "### 1. Raw Image path."
   ]
  },
  {
   "cell_type": "code",
   "execution_count": null,
   "id": "26d453ef",
   "metadata": {},
   "outputs": [],
   "source": []
  },
  {
   "cell_type": "code",
   "execution_count": null,
   "id": "2787c612",
   "metadata": {},
   "outputs": [],
   "source": [
    "IMAGE_PATH ='data/resized/*.jpg'"
   ]
  },
  {
   "cell_type": "code",
   "execution_count": null,
   "id": "5c5e4031",
   "metadata": {},
   "outputs": [],
   "source": [
    "images_path= list(glob.glob(IMAGE_PATH))"
   ]
  },
  {
   "cell_type": "code",
   "execution_count": null,
   "id": "be4c8860",
   "metadata": {},
   "outputs": [],
   "source": [
    "print(f'There are {len(image_paths):,} images in the dataset')"
   ]
  },
  {
   "cell_type": "code",
   "execution_count": null,
   "id": "6faea7a6",
   "metadata": {},
   "outputs": [],
   "source": [
    "for image in image_paths:\n",
    "    img=Image.open(image)\n",
    "    img = img.rotate(-90)\n",
    "\n",
    "    width, height = img.size\n",
    "    img = img.resize((width //5 ,height // 5), resample = Image.BICUBIC)\n",
    "\n",
    "    display(img)\n",
    "    print(img.size)\n",
    "    time.sleep(5)\n",
    "    clear_output(wait=False)"
   ]
  },
  {
   "cell_type": "code",
   "execution_count": null,
   "id": "d2702cb7",
   "metadata": {},
   "outputs": [],
   "source": [
    "output_image_path = 'data/resized/car_'"
   ]
  },
  {
   "cell_type": "code",
   "execution_count": null,
   "id": "c9a22d61",
   "metadata": {},
   "outputs": [],
   "source": [
    "for i,image in enumerate(image_paths):\n",
    "    img=Image.open(image)\n",
    "    img = img.rotate(-90)\n",
    "\n",
    "    width, height = img.size\n",
    "    img = img.resize((width //5 ,height // 5), resample = Image.BICUBIC)\n",
    "\n",
    "    #display(img)\n",
    "    //print(img.size)\n",
    "    img.save(output_image_path+str(i)+'.jpg')\n",
    "    #time.sleep(5)\n",
    "    #clear_output(wait=False)"
   ]
  },
  {
   "cell_type": "code",
   "execution_count": null,
   "id": "a7833854",
   "metadata": {},
   "outputs": [],
   "source": [
    "Image.open(image_paths[0])\n",
    "img = image.rotate(-90)\n",
    "\n",
    "width, height = img.size\n",
    "img = img.resize((width //5 ,height // 5), resample = Image.BICUBIC)\n",
    "\n",
    "display(img)\n",
    "print(img.size)\n",
    "time.sleep(2)"
   ]
  },
  {
   "cell_type": "code",
   "execution_count": null,
   "id": "538391be",
   "metadata": {},
   "outputs": [],
   "source": []
  },
  {
   "cell_type": "code",
   "execution_count": null,
   "id": "129176ea",
   "metadata": {},
   "outputs": [],
   "source": []
  }
 ],
 "metadata": {
  "kernelspec": {
   "display_name": "Python 3",
   "language": "python",
   "name": "python3"
  },
  "language_info": {
   "codemirror_mode": {
    "name": "ipython",
    "version": 3
   },
   "file_extension": ".py",
   "mimetype": "text/x-python",
   "name": "python",
   "nbconvert_exporter": "python",
   "pygments_lexer": "ipython3",
   "version": "3.8.12"
  }
 },
 "nbformat": 4,
 "nbformat_minor": 5
}
